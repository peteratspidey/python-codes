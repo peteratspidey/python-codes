{
 "cells": [
  {
   "cell_type": "markdown",
   "id": "7d79fd50-de0c-453c-8d98-cbcc1ce99dc2",
   "metadata": {},
   "source": [
    "# this is for the udemy python "
   ]
  },
  {
   "cell_type": "code",
   "execution_count": 4,
   "id": "8589e145-8939-4afd-969b-15259a243699",
   "metadata": {},
   "outputs": [
    {
     "name": "stdin",
     "output_type": "stream",
     "text": [
      "enter the number 5\n"
     ]
    },
    {
     "name": "stdout",
     "output_type": "stream",
     "text": [
      " the no is odd\n"
     ]
    }
   ],
   "source": [
    "x = int(input (\"enter the number\"))\n",
    "if x%2 == 0:\n",
    "    print (\" the no is even\")\n",
    "else :\n",
    "    print( \" the no is odd\")"
   ]
  },
  {
   "cell_type": "code",
   "execution_count": null,
   "id": "a47c81e9-b127-4578-8e7c-d8c68a4f4b25",
   "metadata": {},
   "outputs": [],
   "source": []
  }
 ],
 "metadata": {
  "kernelspec": {
   "display_name": "Python 3 (ipykernel)",
   "language": "python",
   "name": "python3"
  },
  "language_info": {
   "codemirror_mode": {
    "name": "ipython",
    "version": 3
   },
   "file_extension": ".py",
   "mimetype": "text/x-python",
   "name": "python",
   "nbconvert_exporter": "python",
   "pygments_lexer": "ipython3",
   "version": "3.10.12"
  }
 },
 "nbformat": 4,
 "nbformat_minor": 5
}
