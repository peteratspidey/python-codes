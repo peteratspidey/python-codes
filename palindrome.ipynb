{
 "cells": [
  {
   "cell_type": "markdown",
   "id": "7d79fd50-de0c-453c-8d98-cbcc1ce99dc2",
   "metadata": {},
   "source": [
    "# this is for the udemy python "
   ]
  },
  {
   "cell_type": "code",
   "execution_count": 4,
   "id": "8589e145-8939-4afd-969b-15259a243699",
   "metadata": {},
   "outputs": [
    {
     "name": "stdin",
     "output_type": "stream",
     "text": [
      "enter the number 5\n"
     ]
    },
    {
     "name": "stdout",
     "output_type": "stream",
     "text": [
      " the no is odd\n"
     ]
    }
   ],
   "source": [
    "x = int(input (\"enter the number\"))\n",
    "if x%2 == 0:\n",
    "    print (\" the no is even\")\n",
    "else :\n",
    "    print( \" the no is odd\")"
   ]
  },
  {
   "cell_type": "markdown",
   "id": "e5d71f87-604f-419d-9463-cd0a221f56b6",
   "metadata": {},
   "source": [
    "# sum of the list\n"
   ]
  },
  {
   "cell_type": "code",
   "execution_count": 2,
   "id": "fa3f3bed-cff4-422d-9da9-90a878e3cd42",
   "metadata": {},
   "outputs": [
    {
     "name": "stdout",
     "output_type": "stream",
     "text": [
      "45\n"
     ]
    }
   ],
   "source": [
    "list1 = [1,2,3,4,5,6,7,8,9]\n",
    "sum = 0\n",
    "for i in list1 :\n",
    "    sum= sum+i\n",
    "\n",
    "print(sum)"
   ]
  },
  {
   "cell_type": "code",
   "execution_count": 5,
   "id": "79f9e96d-9dd3-4740-9d2c-e9b82688682c",
   "metadata": {},
   "outputs": [
    {
     "name": "stdin",
     "output_type": "stream",
     "text": [
      "enter the string ravi\n"
     ]
    },
    {
     "name": "stdout",
     "output_type": "stream",
     "text": [
      "seq is not palindrome\n"
     ]
    }
   ],
   "source": [
    " y = input (\"enter the string\")\n",
    "z = y[::-1]\n",
    "if z==y :\n",
    "    print (\"seq is palindrome\")\n",
    "else :\n",
    "    print(\"seq is not palindrome\")"
   ]
  },
  {
   "cell_type": "code",
   "execution_count": null,
   "id": "4df9dfea-ab2a-459b-99d8-3b6261634943",
   "metadata": {},
   "outputs": [],
   "source": []
  }
 ],
 "metadata": {
  "kernelspec": {
   "display_name": "Python 3 (ipykernel)",
   "language": "python",
   "name": "python3"
  },
  "language_info": {
   "codemirror_mode": {
    "name": "ipython",
    "version": 3
   },
   "file_extension": ".py",
   "mimetype": "text/x-python",
   "name": "python",
   "nbconvert_exporter": "python",
   "pygments_lexer": "ipython3",
   "version": "3.10.12"
  }
 },
 "nbformat": 4,
 "nbformat_minor": 5
}
